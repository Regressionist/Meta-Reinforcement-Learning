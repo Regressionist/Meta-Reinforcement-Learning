{
 "cells": [
  {
   "cell_type": "code",
   "execution_count": 1,
   "metadata": {},
   "outputs": [],
   "source": [
    "import time\n",
    "\n",
    "import gym\n",
    "import math\n",
    "import random\n",
    "import numpy as np\n",
    "import matplotlib\n",
    "import matplotlib.pyplot as plt\n",
    "from collections import namedtuple\n",
    "from itertools import count\n",
    "from copy import deepcopy\n",
    "from PIL import Image\n",
    "\n",
    "import torch\n",
    "import torch.nn as nn\n",
    "import torch.optim as optim\n",
    "import torch.nn.functional as F\n",
    "from torch.autograd import Variable\n",
    "import torchvision.transforms as T\n",
    "\n",
    "from collections import deque\n",
    "import random\n",
    "import datetime\n",
    "import os\n",
    "from atari_wrappers import wrap_dqn\n",
    "from Agent import Agent\n",
    "\n",
    "from IPython import display\n",
    "plt.ion()\n",
    "import time"
   ]
  },
  {
   "cell_type": "code",
   "execution_count": 2,
   "metadata": {},
   "outputs": [
    {
     "name": "stdout",
     "output_type": "stream",
     "text": [
      "Use GPU: True\n"
     ]
    }
   ],
   "source": [
    "use_gpu = torch.cuda.is_available()\n",
    "print('Use GPU: {}'.format(use_gpu))"
   ]
  },
  {
   "cell_type": "code",
   "execution_count": 3,
   "metadata": {},
   "outputs": [],
   "source": [
    "agent = Agent()\n",
    "#agent.load_model('/scratch/ab8084/atari/saved/final_model_breakout.pth')"
   ]
  },
  {
   "cell_type": "code",
   "execution_count": 4,
   "metadata": {},
   "outputs": [
    {
     "data": {
      "text/plain": [
       "[<matplotlib.lines.Line2D at 0x2b648dae56a0>]"
      ]
     },
     "execution_count": 4,
     "metadata": {},
     "output_type": "execute_result"
    },
    {
     "data": {
      "image/png": "[encoded data removed]",
      "text/plain": [
       "<Figure size 432x288 with 1 Axes>"
      ]
     },
     "metadata": {
      "needs_background": "light"
     },
     "output_type": "display_data"
    }
   ],
   "source": [
    "plt.plot(range(len(agent.reward_episodes)),agent.reward_episodes)"
   ]
  },
  {
   "cell_type": "code",
   "execution_count": 4,
   "metadata": {},
   "outputs": [
    {
     "data": {
      "text/plain": [
       "29.0"
      ]
     },
     "execution_count": 4,
     "metadata": {},
     "output_type": "execute_result"
    }
   ],
   "source": [
    "agent.benchmark"
   ]
  },
  {
   "cell_type": "code",
   "execution_count": null,
   "metadata": {},
   "outputs": [
    {
     "name": "stdout",
     "output_type": "stream",
     "text": [
      "Start training at: Sat Apr 27 15:36:37 2019\n",
      "Populating Replay Buffer\n",
      "\n",
      "\n",
      "Replay Buffer populated with 50000 transitions, starting training...\n",
      "\n",
      "\n",
      "synchronizing target network...\n",
      "global step: 4  | episode: 1  | episode_length: 4  | mean episode reward: 0.0\n",
      "global step: 20  | episode: 2  | episode_length: 16  | mean episode reward: 1.0\n",
      "global step: 387  | episode: 36  | episode_length: 34  | mean episode reward: 3.0\n",
      "global step: 1618  | episode: 144  | episode_length: 42  | mean episode reward: 4.0\n",
      "synchronizing target network...\n",
      "global step: 11264  | episode: 1000  | mean episode_length: 11.264  | mean episode reward: 0.323\n",
      "global step: 13968  | episode: 1243  | episode_length: 54  | mean episode reward: 6.0\n",
      "synchronizing target network...\n",
      "global step: 22532  | episode: 2000  | mean episode_length: 11.268  | mean episode reward: 0.334\n",
      "synchronizing target network...\n",
      "global step: 33869  | episode: 3000  | mean episode_length: 11.337  | mean episode reward: 0.354\n",
      "synchronizing target network...\n",
      "global step: 45651  | episode: 4000  | mean episode_length: 11.782  | mean episode reward: 0.378\n",
      "synchronizing target network...\n",
      "global step: 57510  | episode: 5000  | mean episode_length: 11.859  | mean episode reward: 0.385\n",
      "synchronizing target network...\n",
      "global step: 69184  | episode: 6000  | mean episode_length: 11.674  | mean episode reward: 0.373\n",
      "synchronizing target network...\n",
      "synchronizing target network...\n",
      "global step: 80650  | episode: 7000  | mean episode_length: 11.466  | mean episode reward: 0.383\n",
      "synchronizing target network...\n",
      "global step: 91697  | episode: 8000  | mean episode_length: 11.047  | mean episode reward: 0.375\n",
      "synchronizing target network...\n",
      "global step: 103597  | episode: 9000  | mean episode_length: 11.9  | mean episode reward: 0.448\n",
      "synchronizing target network...\n",
      "global step: 116098  | episode: 10000  | mean episode_length: 12.501  | mean episode reward: 0.446\n",
      "synchronizing target network...\n",
      "global step: 128607  | episode: 11000  | mean episode_length: 12.509  | mean episode reward: 0.454\n",
      "synchronizing target network...\n",
      "synchronizing target network...\n",
      "global step: 141340  | episode: 12000  | mean episode_length: 12.733  | mean episode reward: 0.475\n",
      "synchronizing target network...\n",
      "global step: 153711  | episode: 13000  | mean episode_length: 12.371  | mean episode reward: 0.449\n",
      "synchronizing target network...\n",
      "global step: 166229  | episode: 14000  | mean episode_length: 12.518  | mean episode reward: 0.516\n",
      "synchronizing target network...\n",
      "global step: 179056  | episode: 15000  | mean episode_length: 12.827  | mean episode reward: 0.529\n",
      "synchronizing target network...\n",
      "synchronizing target network...\n",
      "global step: 191172  | episode: 16000  | mean episode_length: 12.116  | mean episode reward: 0.51\n",
      "synchronizing target network...\n",
      "global step: 204895  | episode: 17000  | mean episode_length: 13.723  | mean episode reward: 0.542\n",
      "synchronizing target network...\n",
      "global step: 217960  | episode: 18000  | mean episode_length: 13.065  | mean episode reward: 0.501\n",
      "synchronizing target network...\n",
      "synchronizing target network...\n",
      "global step: 230755  | episode: 19000  | mean episode_length: 12.795  | mean episode reward: 0.583\n",
      "synchronizing target network...\n",
      "global step: 244476  | episode: 20000  | mean episode_length: 13.721  | mean episode reward: 0.637\n",
      "synchronizing target network...\n",
      "global step: 258668  | episode: 21000  | mean episode_length: 14.192  | mean episode reward: 0.644\n",
      "synchronizing target network...\n",
      "synchronizing target network...\n",
      "global step: 273404  | episode: 22000  | mean episode_length: 14.736  | mean episode reward: 0.653\n",
      "global step: 276657  | episode: 22218  | episode_length: 73  | mean episode reward: 8.0\n",
      "synchronizing target network...\n",
      "global step: 288292  | episode: 23000  | mean episode_length: 14.888  | mean episode reward: 0.704\n",
      "synchronizing target network...\n",
      "synchronizing target network...\n",
      "global step: 302776  | episode: 24000  | mean episode_length: 14.484  | mean episode reward: 0.722\n",
      "synchronizing target network...\n",
      "global step: 317098  | episode: 25000  | mean episode_length: 14.322  | mean episode reward: 0.75\n",
      "synchronizing target network...\n",
      "synchronizing target network...\n",
      "global step: 332906  | episode: 26000  | mean episode_length: 15.808  | mean episode reward: 0.772\n",
      "synchronizing target network...\n",
      "global step: 347549  | episode: 27000  | mean episode_length: 14.643  | mean episode reward: 0.754\n",
      "synchronizing target network...\n",
      "synchronizing target network...\n",
      "global step: 363055  | episode: 28000  | mean episode_length: 15.506  | mean episode reward: 0.809\n",
      "synchronizing target network...\n",
      "global step: 379871  | episode: 29000  | mean episode_length: 16.816  | mean episode reward: 0.845\n",
      "synchronizing target network...\n",
      "synchronizing target network...\n",
      "global step: 397778  | episode: 30000  | mean episode_length: 17.907  | mean episode reward: 0.906\n",
      "global step: 398197  | episode: 30019  | episode_length: 85  | mean episode reward: 9.0\n",
      "synchronizing target network...\n",
      "synchronizing target network...\n",
      "global step: 415593  | episode: 31000  | mean episode_length: 17.815  | mean episode reward: 0.922\n",
      "synchronizing target network...\n",
      "synchronizing target network...\n",
      "global step: 433748  | episode: 32000  | mean episode_length: 18.155  | mean episode reward: 1.02\n",
      "synchronizing target network...\n",
      "synchronizing target network...\n",
      "global step: 452621  | episode: 33000  | mean episode_length: 18.873  | mean episode reward: 1.095\n",
      "synchronizing target network...\n",
      "synchronizing target network...\n",
      "global step: 472383  | episode: 34000  | mean episode_length: 19.762  | mean episode reward: 1.121\n",
      "synchronizing target network...\n",
      "synchronizing target network...\n",
      "global step: 491077  | episode: 35000  | mean episode_length: 18.694  | mean episode reward: 1.169\n",
      "synchronizing target network...\n",
      "synchronizing target network...\n",
      "global step: 511532  | episode: 36000  | mean episode_length: 20.455  | mean episode reward: 1.225\n",
      "synchronizing target network...\n",
      "synchronizing target network...\n",
      "global step: 531690  | episode: 37000  | mean episode_length: 20.158  | mean episode reward: 1.204\n",
      "synchronizing target network...\n",
      "synchronizing target network...\n",
      "global step: 553715  | episode: 38000  | mean episode_length: 22.025  | mean episode reward: 1.328\n",
      "synchronizing target network...\n",
      "synchronizing target network...\n",
      "global step: 577295  | episode: 39000  | mean episode_length: 23.58  | mean episode reward: 1.449\n",
      "synchronizing target network...\n",
      "synchronizing target network...\n",
      "global step: 591629  | episode: 39597  | episode_length: 96  | mean episode reward: 10.0\n",
      "synchronizing target network...\n",
      "global step: 601474  | episode: 40000  | mean episode_length: 24.179  | mean episode reward: 1.508\n",
      "synchronizing target network...\n",
      "global step: 619516  | episode: 40750  | episode_length: 127  | mean episode reward: 11.0\n",
      "synchronizing target network...\n",
      "global step: 626273  | episode: 41000  | mean episode_length: 24.799  | mean episode reward: 1.73\n",
      "synchronizing target network...\n",
      "synchronizing target network...\n",
      "synchronizing target network...\n",
      "global step: 655377  | episode: 42000  | mean episode_length: 29.104  | mean episode reward: 1.82\n",
      "synchronizing target network...\n",
      "synchronizing target network...\n",
      "synchronizing target network...\n",
      "global step: 684295  | episode: 43000  | mean episode_length: 28.918  | mean episode reward: 2.011\n",
      "synchronizing target network...\n",
      "synchronizing target network...\n",
      "global step: 703625  | episode: 43622  | episode_length: 155  | mean episode reward: 12.0\n",
      "synchronizing target network...\n",
      "global step: 715880  | episode: 44000  | mean episode_length: 31.585  | mean episode reward: 2.25\n",
      "synchronizing target network...\n"
     ]
    }
   ],
   "source": [
    "agent.train(replay_buffer_fill_len=50000, \n",
    "            batch_size=32, \n",
    "            episodes=10**5,\n",
    "            stop_reward=1900,\n",
    "            max_epsilon_steps=1000000,\n",
    "            epsilon_start=1,\n",
    "            epsilon_final=0.05,\n",
    "            sync_target_net_freq=10000)"
   ]
  },
  {
   "cell_type": "code",
   "execution_count": 8,
   "metadata": {},
   "outputs": [
    {
     "data": {
      "image/png": "[encoded data removed]",
      "text/plain": [
       "<Figure size 720x576 with 1 Axes>"
      ]
     },
     "metadata": {
      "needs_background": "light"
     },
     "output_type": "display_data"
    }
   ],
   "source": [
    "for i in range(5):\n",
    "    done=False\n",
    "    #agent.env = gym.wrappers.Monitor(agent.env, \"recording\")\n",
    "    plt.figure(figsize=(10,8))\n",
    "    state=agent.env.reset()\n",
    "    #print(state.shape)\n",
    "    plt.imshow(agent.env.render(mode='rgb_array'))\n",
    "    plt.axis('off')\n",
    "    plt.show()\n",
    "    while not done:\n",
    "        action = agent.select_action(state, 0)\n",
    "        state, reward, done, _ = agent.env.step(action)\n",
    "        display.clear_output(wait=True)\n",
    "        plt.figure(figsize=(10,8))\n",
    "        plt.imshow(agent.env.render(mode='rgb_array'))\n",
    "        plt.axis('off')\n",
    "        plt.show()\n",
    "        time.sleep(0.1)"
   ]
  },
  {
   "cell_type": "code",
   "execution_count": null,
   "metadata": {},
   "outputs": [],
   "source": []
  }
 ],
 "metadata": {
  "kernelspec": {
   "display_name": "Python 3",
   "language": "python",
   "name": "python3"
  },
  "language_info": {
   "codemirror_mode": {
    "name": "ipython",
    "version": 3
   },
   "file_extension": ".py",
   "mimetype": "text/x-python",
   "name": "python",
   "nbconvert_exporter": "python",
   "pygments_lexer": "ipython3",
   "version": "3.7.1"
  }
 },
 "nbformat": 4,
 "nbformat_minor": 2
}
